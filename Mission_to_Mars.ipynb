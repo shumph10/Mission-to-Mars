{
 "cells": [
  {
   "cell_type": "code",
   "execution_count": 27,
   "id": "6fcf6ca5",
   "metadata": {},
   "outputs": [],
   "source": [
    "# Import Splinter and BeautifulSoup\n",
    "from splinter import Browser\n",
    "from bs4 import BeautifulSoup as soup\n",
    "from webdriver_manager.chrome import ChromeDriverManager\n",
    "import pandas as pd"
   ]
  },
  {
   "cell_type": "code",
   "execution_count": 2,
   "id": "53fa01e5",
   "metadata": {},
   "outputs": [
    {
     "name": "stderr",
     "output_type": "stream",
     "text": [
      "\n",
      "\n",
      "====== WebDriver manager ======\n",
      "Current google-chrome version is 101.0.4951\n",
      "Get LATEST chromedriver version for 101.0.4951 google-chrome\n",
      "Driver [C:\\Users\\PC\\.wdm\\drivers\\chromedriver\\win32\\101.0.4951.41\\chromedriver.exe] found in cache\n"
     ]
    }
   ],
   "source": [
    "executable_path = {'executable_path': ChromeDriverManager().install()}\n",
    "browser = Browser('chrome', **executable_path, headless=False)"
   ]
  },
  {
   "cell_type": "code",
   "execution_count": 3,
   "id": "b645e485",
   "metadata": {},
   "outputs": [
    {
     "data": {
      "text/plain": [
       "True"
      ]
     },
     "execution_count": 3,
     "metadata": {},
     "output_type": "execute_result"
    }
   ],
   "source": [
    "#assign the url and instruct the broswer to visit it\n",
    "# Visit the mars nasa news site\n",
    "url = 'https://redplanetscience.com'\n",
    "browser.visit(url)\n",
    "# Optional delay for loading the page\n",
    "browser.is_element_present_by_css('div.list_text', wait_time=1)\n",
    "#does 2 things:\n",
    "    #searching for elements with a comb of div and attribute list_text\n",
    "    #telling to wait one sec before searching for components\n",
    "        #helps bc often dynamic pages take a bit to load esp with lots of images\n"
   ]
  },
  {
   "cell_type": "code",
   "execution_count": 5,
   "id": "39fe3e03",
   "metadata": {},
   "outputs": [],
   "source": [
    "#set up HTML parser\n",
    "html = browser.html\n",
    "news_soup = soup(html, 'html.parser')\n",
    "slide_elem = news_soup.select_one('div.list_text')\n",
    "    #using <div /> bc its out parent element - all other elements are inside it\n",
    "    #so can use this when we want to drill down farther\n",
    "    #div.list text is like doing div class='list_text'\n",
    "    \n",
    "    #CSS works from right to left - returns last item instead of first\n",
    "    #bc of this using select_one the first matching element returned will be \n",
    "    #a <li /> element with a class of slide and all nested elements within it"
   ]
  },
  {
   "cell_type": "code",
   "execution_count": 13,
   "id": "ffdb47c7",
   "metadata": {},
   "outputs": [
    {
     "data": {
      "text/plain": [
       "<div class=\"content_title\">Common Questions about InSight's 'Mole'</div>"
      ]
     },
     "execution_count": 13,
     "metadata": {},
     "output_type": "execute_result"
    }
   ],
   "source": [
    "#find the title and teaser paragraph\n",
    "slide_elem.find('div', class_='content_title')\n",
    "    #look inside the slide_elem var that has all the info inside div (parent ele)\n",
    "    #and find the content_title class\n",
    "    "
   ]
  },
  {
   "cell_type": "code",
   "execution_count": 14,
   "id": "cc9ddd85",
   "metadata": {},
   "outputs": [
    {
     "data": {
      "text/plain": [
       "\"Common Questions about InSight's 'Mole'\""
      ]
     },
     "execution_count": 14,
     "metadata": {},
     "output_type": "execute_result"
    }
   ],
   "source": [
    "#get just the text from the title\n",
    "#use the parent element to find the first 'a' tag and save to a variable\n",
    "news_title = slide_elem.find('div', class_='content_title').get_text()\n",
    "    #get_text() returns only the text from the results not any of the \n",
    "    #HTML tags or elements\n",
    "news_title"
   ]
  },
  {
   "cell_type": "code",
   "execution_count": 15,
   "id": "ebc39d39",
   "metadata": {},
   "outputs": [
    {
     "data": {
      "text/plain": [
       "'The following Q&As with members of the team answer some of the most common questions about the burrowing device, part of a science instrument called the Heat Flow and Physical Properties Package (HP3).'"
      ]
     },
     "execution_count": 15,
     "metadata": {},
     "output_type": "execute_result"
    }
   ],
   "source": [
    "#get just the article summary(teaser) from the title\n",
    "#use the parent element to find the teaser and pull the text\n",
    "news_p = slide_elem.find('div', class_='article_teaser_body').get_text()\n",
    "    #there are more than 1 elem with that class - only want the first on\n",
    "    #want to pull the first one on the list not a specific one so more than we need is ok\n",
    "    #if we got more specific wed be pulling from a certain article not just whatever\n",
    "    #was at the top\n",
    "    #best to leave more general\n",
    "    \n",
    "    #find() - only want the first of the class and attribute weve specified\n",
    "    #find_all() - retrieves all matches\n",
    "        #so just use find() to pull the first\n",
    "\n",
    "news_p"
   ]
  },
  {
   "cell_type": "markdown",
   "id": "c276943c",
   "metadata": {},
   "source": [
    "### Featured Images"
   ]
  },
  {
   "cell_type": "code",
   "execution_count": 16,
   "id": "87f3481b",
   "metadata": {},
   "outputs": [],
   "source": [
    "#pull the image from website for use in our app\n",
    "#want full size image so need splinter to click the full image button\n",
    "#That directs us to a slide show\n"
   ]
  },
  {
   "cell_type": "code",
   "execution_count": 17,
   "id": "5e988a5e",
   "metadata": {},
   "outputs": [],
   "source": [
    "#set up the URL for visiting\n",
    "url = 'https://spaceimages-mars.com/'\n",
    "browser.visit(url)"
   ]
  },
  {
   "cell_type": "code",
   "execution_count": 20,
   "id": "28cf065c",
   "metadata": {},
   "outputs": [],
   "source": [
    "#want to click the full image button - check HTML from website\n",
    "#find and click the full image button\n",
    "full_image_elem = browser.find_by_tag('button')[1]\n",
    "#using [1] bc there are 3 instances that <button is used in the code\n",
    "#want the second one or index 1\n",
    "full_image_elem.click()"
   ]
  },
  {
   "cell_type": "code",
   "execution_count": 21,
   "id": "73a9432c",
   "metadata": {},
   "outputs": [],
   "source": [
    "#parse the new page loaded onto the testing browser so we can continue\n",
    "#and scrape the full-size image url\n",
    "# Parse the resulting html with soup\n",
    "html = browser.html\n",
    "img_soup = soup(html, 'html.parser')"
   ]
  },
  {
   "cell_type": "code",
   "execution_count": 23,
   "id": "001a1edf",
   "metadata": {},
   "outputs": [
    {
     "data": {
      "text/plain": [
       "'image/featured/mars1.jpg'"
      ]
     },
     "execution_count": 23,
     "metadata": {},
     "output_type": "execute_result"
    }
   ],
   "source": [
    "#need to find the relative image URL - on open devtools testing browser \n",
    "#find the image link - want most recently posted\n",
    "#if you use the actual url for the image youll only ever pull that one,\n",
    "    #not the most recent\n",
    "#the <img class\"fancybox-image\" src=\"image url\"\n",
    "    #the src will change so can use that - use img.fancybox... to get the image\n",
    "\n",
    "#find the relative image URL\n",
    "img_url_rel = img_soup.find('img', class_='fancybox-image').get('src')\n",
    "    #using img_soup that has the html parsed earlier\n",
    "    #get('src') pulls the link to the most current image\n",
    "img_url_rel\n",
    "\n",
    "#only a partial link bc the base url isnt included, need the websites URL\n",
    "    #before it for it to work in a new tab"
   ]
  },
  {
   "cell_type": "code",
   "execution_count": 26,
   "id": "c0fe3572",
   "metadata": {},
   "outputs": [
    {
     "data": {
      "text/plain": [
       "'https://spaceimages-mars.com/image/featured/mars1.jpg'"
      ]
     },
     "execution_count": 26,
     "metadata": {},
     "output_type": "execute_result"
    }
   ],
   "source": [
    "#add the base URL to the code - creates a whole, absolute URL\n",
    "img_url = f'https://spaceimages-mars.com/{img_url_rel}'\n",
    "    #using f string bc its cleaner way to print & bc\n",
    "    #f strings are evaluated at run time\n",
    "        #the string and the variable it holds are nonexistant until its executed\n",
    "        #and the values are pulled - theyre not constant\n",
    "        #works well with lots of updating info\n",
    "img_url"
   ]
  },
  {
   "cell_type": "markdown",
   "id": "ad089821",
   "metadata": {},
   "source": [
    "### Scrape the mars data table"
   ]
  },
  {
   "cell_type": "code",
   "execution_count": null,
   "id": "885cf249",
   "metadata": {},
   "outputs": [],
   "source": [
    "#want to keep the table format so the HTML table format is important\n",
    "#all of the data we want is in the <table /> tag \n",
    "#inside the table is the <tbody /> tag which is the body of the table\n",
    "    #headers, columns, and rows\n",
    "#<tr /> is the tag for each table row\n",
    "#within that tag the data is stored in <td /> \n",
    "    #where columns are established\n",
    "    \n",
    "#instead of scraping each row or the data in each <td /> were going to scrape\n",
    "    #the whole table with Pandas' read_html() funct\n",
    "    "
   ]
  },
  {
   "cell_type": "code",
   "execution_count": 28,
   "id": "01262902",
   "metadata": {},
   "outputs": [
    {
     "data": {
      "text/html": [
       "<div>\n",
       "<style scoped>\n",
       "    .dataframe tbody tr th:only-of-type {\n",
       "        vertical-align: middle;\n",
       "    }\n",
       "\n",
       "    .dataframe tbody tr th {\n",
       "        vertical-align: top;\n",
       "    }\n",
       "\n",
       "    .dataframe thead th {\n",
       "        text-align: right;\n",
       "    }\n",
       "</style>\n",
       "<table border=\"1\" class=\"dataframe\">\n",
       "  <thead>\n",
       "    <tr style=\"text-align: right;\">\n",
       "      <th></th>\n",
       "      <th>Mars</th>\n",
       "      <th>Earth</th>\n",
       "    </tr>\n",
       "    <tr>\n",
       "      <th>description</th>\n",
       "      <th></th>\n",
       "      <th></th>\n",
       "    </tr>\n",
       "  </thead>\n",
       "  <tbody>\n",
       "    <tr>\n",
       "      <th>Mars - Earth Comparison</th>\n",
       "      <td>Mars</td>\n",
       "      <td>Earth</td>\n",
       "    </tr>\n",
       "    <tr>\n",
       "      <th>Diameter:</th>\n",
       "      <td>6,779 km</td>\n",
       "      <td>12,742 km</td>\n",
       "    </tr>\n",
       "    <tr>\n",
       "      <th>Mass:</th>\n",
       "      <td>6.39 × 10^23 kg</td>\n",
       "      <td>5.97 × 10^24 kg</td>\n",
       "    </tr>\n",
       "    <tr>\n",
       "      <th>Moons:</th>\n",
       "      <td>2</td>\n",
       "      <td>1</td>\n",
       "    </tr>\n",
       "    <tr>\n",
       "      <th>Distance from Sun:</th>\n",
       "      <td>227,943,824 km</td>\n",
       "      <td>149,598,262 km</td>\n",
       "    </tr>\n",
       "    <tr>\n",
       "      <th>Length of Year:</th>\n",
       "      <td>687 Earth days</td>\n",
       "      <td>365.24 days</td>\n",
       "    </tr>\n",
       "    <tr>\n",
       "      <th>Temperature:</th>\n",
       "      <td>-87 to -5 °C</td>\n",
       "      <td>-88 to 58°C</td>\n",
       "    </tr>\n",
       "  </tbody>\n",
       "</table>\n",
       "</div>"
      ],
      "text/plain": [
       "                                    Mars            Earth\n",
       "description                                              \n",
       "Mars - Earth Comparison             Mars            Earth\n",
       "Diameter:                       6,779 km        12,742 km\n",
       "Mass:                    6.39 × 10^23 kg  5.97 × 10^24 kg\n",
       "Moons:                                 2                1\n",
       "Distance from Sun:        227,943,824 km   149,598,262 km\n",
       "Length of Year:           687 Earth days      365.24 days\n",
       "Temperature:                -87 to -5 °C      -88 to 58°C"
      ]
     },
     "execution_count": 28,
     "metadata": {},
     "output_type": "execute_result"
    }
   ],
   "source": [
    "df = pd.read_html('https://galaxyfacts-mars.com/')[0]\n",
    "    #read in the html from webside, pull 1st table (index 0)\n",
    "        #function specifically looks for tables so just spec which table index\n",
    "        #youre wanting\n",
    "df.columns = ['description', 'Mars', 'Earth']\n",
    "    #assign new columns to the new df for clarity\n",
    "df.set_index('description', inplace=True)\n",
    "    #setting the description column into the df index\n",
    "    #inplace=true means the updated index will remain in place without\n",
    "        #having to put the new df into a new variable\n",
    "        #lets it edit df rather than making a new one\n",
    "df"
   ]
  },
  {
   "cell_type": "code",
   "execution_count": 30,
   "id": "720281a3",
   "metadata": {},
   "outputs": [
    {
     "data": {
      "text/plain": [
       "'<table border=\"1\" class=\"dataframe\">\\n  <thead>\\n    <tr style=\"text-align: right;\">\\n      <th></th>\\n      <th>Mars</th>\\n      <th>Earth</th>\\n    </tr>\\n    <tr>\\n      <th>description</th>\\n      <th></th>\\n      <th></th>\\n    </tr>\\n  </thead>\\n  <tbody>\\n    <tr>\\n      <th>Mars - Earth Comparison</th>\\n      <td>Mars</td>\\n      <td>Earth</td>\\n    </tr>\\n    <tr>\\n      <th>Diameter:</th>\\n      <td>6,779 km</td>\\n      <td>12,742 km</td>\\n    </tr>\\n    <tr>\\n      <th>Mass:</th>\\n      <td>6.39 × 10^23 kg</td>\\n      <td>5.97 × 10^24 kg</td>\\n    </tr>\\n    <tr>\\n      <th>Moons:</th>\\n      <td>2</td>\\n      <td>1</td>\\n    </tr>\\n    <tr>\\n      <th>Distance from Sun:</th>\\n      <td>227,943,824 km</td>\\n      <td>149,598,262 km</td>\\n    </tr>\\n    <tr>\\n      <th>Length of Year:</th>\\n      <td>687 Earth days</td>\\n      <td>365.24 days</td>\\n    </tr>\\n    <tr>\\n      <th>Temperature:</th>\\n      <td>-87 to -5 °C</td>\\n      <td>-88 to 58°C</td>\\n    </tr>\\n  </tbody>\\n</table>'"
      ]
     },
     "execution_count": 30,
     "metadata": {},
     "output_type": "execute_result"
    }
   ],
   "source": [
    "#want to put the table into a new website so need the HTML w/ updating info\n",
    "#can convert df back into HTML-ready code using .to_html() funct (pandas funct)\n",
    "df.to_html()\n",
    "#can add the resulting block of text directly to a new app \n",
    "#and will show in the same table w. easy to read format"
   ]
  },
  {
   "cell_type": "code",
   "execution_count": 31,
   "id": "82848a74",
   "metadata": {},
   "outputs": [],
   "source": [
    "#got all the info we need --- can end the automated browsing session\n",
    "#important line to add to the web app also \n",
    "    #without it the auto browser wont now to shut down \n",
    "    #will keep going and put a strain on resources if left on\n",
    "    #only want the browser to be on when were scrapping data\n",
    "    #like turning off a light switch when your ready to leave a room or home"
   ]
  },
  {
   "cell_type": "code",
   "execution_count": 32,
   "id": "54b19759",
   "metadata": {},
   "outputs": [],
   "source": [
    "#shut down the automated browsing session\n",
    "browser.quit()"
   ]
  },
  {
   "cell_type": "code",
   "execution_count": 33,
   "id": "01f38a5e",
   "metadata": {},
   "outputs": [],
   "source": [
    "#jupyter notebook is great for scraping one thing at a time, or building\n",
    "#your code in chunks - 1 for image, 1 for article, 1 for facts\n",
    "#allows testing of each independently from another\n",
    "#to fully automate scrapping you have to use a .py file\n",
    "    #cant be done in jupyter\n",
    "    \n",
    "#copy the current code into a .py file\n",
    "    #wont transition perfectly but better than individ copying everything\n",
    "    \n",
    "#How to trans to a .py file\n",
    "# click on file, download as, select .py from the next menu to download\n",
    "#ignore the warning and click keep\n",
    "#go to downloads and open the new file\n",
    "#clean up code by removing unnecessary blank spaces and comments\n",
    "\n",
    "#can then test the script by running through the terminal"
   ]
  },
  {
   "cell_type": "code",
   "execution_count": null,
   "id": "fb0be32b",
   "metadata": {},
   "outputs": [],
   "source": []
  }
 ],
 "metadata": {
  "kernelspec": {
   "display_name": "PythonData",
   "language": "python",
   "name": "pythondata"
  },
  "language_info": {
   "codemirror_mode": {
    "name": "ipython",
    "version": 3
   },
   "file_extension": ".py",
   "mimetype": "text/x-python",
   "name": "python",
   "nbconvert_exporter": "python",
   "pygments_lexer": "ipython3",
   "version": "3.9.7"
  }
 },
 "nbformat": 4,
 "nbformat_minor": 5
}
