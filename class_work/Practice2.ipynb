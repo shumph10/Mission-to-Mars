{
 "cells": [
  {
   "cell_type": "code",
   "execution_count": 1,
   "id": "04560612",
   "metadata": {},
   "outputs": [],
   "source": [
    "#import splinter and Beautiful Soup\n",
    "from splinter import Browser\n",
    "from bs4 import BeautifulSoup as soup\n",
    "from webdriver_manager.chrome import ChromeDriverManager"
   ]
  },
  {
   "cell_type": "code",
   "execution_count": 2,
   "id": "ad6792d2",
   "metadata": {},
   "outputs": [
    {
     "name": "stderr",
     "output_type": "stream",
     "text": [
      "\n",
      "\n",
      "====== WebDriver manager ======\n",
      "Current google-chrome version is 101.0.4951\n",
      "Get LATEST chromedriver version for 101.0.4951 google-chrome\n",
      "Driver [C:\\Users\\PC\\.wdm\\drivers\\chromedriver\\win32\\101.0.4951.41\\chromedriver.exe] found in cache\n"
     ]
    }
   ],
   "source": [
    "#Set up splinter\n",
    "executable_path= {'executable_path': ChromeDriverManager().install()}\n",
    "browser = Browser('chrome', **executable_path, headless=False)"
   ]
  },
  {
   "cell_type": "code",
   "execution_count": 3,
   "id": "6fc100d9",
   "metadata": {},
   "outputs": [],
   "source": [
    "#Visit the Qoutes to Scrape site\n",
    "url = 'http://quotes.toscrape.com/'\n",
    "browser.visit(url)"
   ]
  },
  {
   "cell_type": "code",
   "execution_count": 4,
   "id": "9bc4c3a4",
   "metadata": {},
   "outputs": [],
   "source": [
    "#use BeautifulSoup to parse the HTML\n",
    "    #after using this BS will have taken a look at the components and can\n",
    "    #now access them\n",
    "html = browser.html\n",
    "html_soup = soup(html, 'html.parser')\n",
    "    #using html.parser to parse the info but there are other options available\n",
    "    #stores the parsed info in a variable for later deeper dives"
   ]
  },
  {
   "cell_type": "code",
   "execution_count": 5,
   "id": "cf003623",
   "metadata": {},
   "outputs": [
    {
     "data": {
      "text/plain": [
       "'Top Ten tags'"
      ]
     },
     "execution_count": 5,
     "metadata": {},
     "output_type": "execute_result"
    }
   ],
   "source": [
    "#scrape the title\n",
    "title = html_soup.find('h2').text\n",
    "    #using the html_soup obj we made and chained the find() to search for the\n",
    "    #<h2> tag that we ident from the website is attached to the title\n",
    "    #extract only the text within tags by adding .text to end of code\n",
    "title"
   ]
  },
  {
   "cell_type": "code",
   "execution_count": 7,
   "id": "86b3d75e",
   "metadata": {},
   "outputs": [
    {
     "name": "stdout",
     "output_type": "stream",
     "text": [
      "love\n",
      "inspirational\n",
      "life\n",
      "humor\n",
      "books\n",
      "reading\n",
      "friendship\n",
      "friends\n",
      "truth\n",
      "simile\n"
     ]
    }
   ],
   "source": [
    "#loop through tags-box to scrape the tag-item names\n",
    "tag_box = html_soup.find('div', class_='tags-box')\n",
    "    #use html parserser to find the <div /> with the class unique to the tag list\n",
    "    #looking through the html_soup that holds info from initial parse\n",
    "#scrape through the tag-box for the names\n",
    "tags = tag_box.find_all('a', class_='tag')\n",
    "    #look within the info we pulled for the <a /> tag with class='tag' like in the\n",
    "    #HTML website scripte \n",
    "    #use find_all to get all results instead of a specific one\n",
    "        #have many to look through rather than just the one like the tag-box locator \n",
    "        #or title where we only wanted the one\n",
    "\n",
    "#iterate through and pull one for each\n",
    "    #loops through each tag in the tags variable and strips the HTML code out of it\n",
    "    #doing to get in plain text, not to actually find the tag\n",
    "    #that parts done above, using for loop to it through results and format\n",
    "    #not to loop through the website HTML\n",
    "for tag in tags:\n",
    "    word = tag.text\n",
    "        #pulls only text not rest of HTML labels\n",
    "    print(word)"
   ]
  },
  {
   "cell_type": "code",
   "execution_count": 9,
   "id": "b1d8ebd2",
   "metadata": {},
   "outputs": [],
   "source": [
    "#scraping across pages - will click the next button between scraping \n",
    "#going to be creating a for loop to do:\n",
    "    #1: create a soup obj\n",
    "    #2: find all the quotes on the page\n",
    "    #3: print each quote from the page\n",
    "    #4: click the next button\n"
   ]
  },
  {
   "cell_type": "code",
   "execution_count": 17,
   "id": "06c421fa",
   "metadata": {},
   "outputs": [
    {
     "name": "stdout",
     "output_type": "stream",
     "text": [
      "page: 1 ---------\n",
      "“The truth.\" Dumbledore sighed. \"It is a beautiful and terrible thing, and should therefore be treated with great caution.”\n",
      "page: 1 ---------\n",
      "“I'm the one that's got to die when it's time for me to die, so let me live my life the way I want to.”\n",
      "page: 1 ---------\n",
      "“To die will be an awfully big adventure.”\n",
      "page: 1 ---------\n",
      "“It takes courage to grow up and become who you really are.”\n",
      "page: 1 ---------\n",
      "“But better to get hurt by the truth than comforted with a lie.”\n",
      "page: 1 ---------\n",
      "“You never really understand a person until you consider things from his point of view... Until you climb inside of his skin and walk around in it.”\n",
      "page: 1 ---------\n",
      "“You have to write the book that wants to be written. And if the book will be too difficult for grown-ups, then you write it for children.”\n",
      "page: 1 ---------\n",
      "“Never tell the truth to people who are not worthy of it.”\n",
      "page: 1 ---------\n",
      "“A person's a person, no matter how small.”\n",
      "page: 1 ---------\n",
      "“... a mind needs books as a sword needs a whetstone, if it is to keep its edge.”\n"
     ]
    },
    {
     "ename": "ElementDoesNotExist",
     "evalue": "no elements could be found with link by partial text \"Next\"",
     "output_type": "error",
     "traceback": [
      "\u001b[1;31m---------------------------------------------------------------------------\u001b[0m",
      "\u001b[1;31mIndexError\u001b[0m                                Traceback (most recent call last)",
      "File \u001b[1;32m~\\.conda\\envs\\PythonData\\lib\\site-packages\\splinter\\element_list.py:39\u001b[0m, in \u001b[0;36mElementList.__getitem__\u001b[1;34m(self, index)\u001b[0m\n\u001b[0;32m     38\u001b[0m \u001b[38;5;28;01mtry\u001b[39;00m:\n\u001b[1;32m---> 39\u001b[0m     \u001b[38;5;28;01mreturn\u001b[39;00m \u001b[38;5;28;43mself\u001b[39;49m\u001b[38;5;241;43m.\u001b[39;49m\u001b[43m_container\u001b[49m\u001b[43m[\u001b[49m\u001b[43mindex\u001b[49m\u001b[43m]\u001b[49m\n\u001b[0;32m     40\u001b[0m \u001b[38;5;28;01mexcept\u001b[39;00m \u001b[38;5;167;01mIndexError\u001b[39;00m:\n",
      "\u001b[1;31mIndexError\u001b[0m: list index out of range",
      "\nDuring handling of the above exception, another exception occurred:\n",
      "\u001b[1;31mElementDoesNotExist\u001b[0m                       Traceback (most recent call last)",
      "Input \u001b[1;32mIn [17]\u001b[0m, in \u001b[0;36m<cell line: 2>\u001b[1;34m()\u001b[0m\n\u001b[0;32m     19\u001b[0m     \u001b[38;5;28mprint\u001b[39m(quote\u001b[38;5;241m.\u001b[39mtext)\n\u001b[0;32m     20\u001b[0m     \u001b[38;5;66;03m#prints quote w/o html tags around\u001b[39;00m\n\u001b[1;32m---> 21\u001b[0m \u001b[43mbrowser\u001b[49m\u001b[38;5;241;43m.\u001b[39;49m\u001b[43mlinks\u001b[49m\u001b[38;5;241;43m.\u001b[39;49m\u001b[43mfind_by_partial_text\u001b[49m\u001b[43m(\u001b[49m\u001b[38;5;124;43m\"\u001b[39;49m\u001b[38;5;124;43mNext\u001b[39;49m\u001b[38;5;124;43m\"\u001b[39;49m\u001b[43m)\u001b[49m\u001b[38;5;241;43m.\u001b[39;49m\u001b[43mclick\u001b[49m()\n",
      "File \u001b[1;32m~\\.conda\\envs\\PythonData\\lib\\site-packages\\splinter\\element_list.py:77\u001b[0m, in \u001b[0;36mElementList.__getattr__\u001b[1;34m(self, name)\u001b[0m\n\u001b[0;32m     75\u001b[0m \u001b[38;5;28;01mdef\u001b[39;00m \u001b[38;5;21m__getattr__\u001b[39m(\u001b[38;5;28mself\u001b[39m, name):\n\u001b[0;32m     76\u001b[0m     \u001b[38;5;28;01mtry\u001b[39;00m:\n\u001b[1;32m---> 77\u001b[0m         \u001b[38;5;28;01mreturn\u001b[39;00m \u001b[38;5;28mgetattr\u001b[39m(\u001b[38;5;28;43mself\u001b[39;49m\u001b[38;5;241;43m.\u001b[39;49m\u001b[43mfirst\u001b[49m, name)\n\u001b[0;32m     78\u001b[0m     \u001b[38;5;28;01mexcept\u001b[39;00m \u001b[38;5;167;01mAttributeError\u001b[39;00m:\n\u001b[0;32m     79\u001b[0m         \u001b[38;5;28;01mtry\u001b[39;00m:\n",
      "File \u001b[1;32m~\\.conda\\envs\\PythonData\\lib\\site-packages\\splinter\\element_list.py:55\u001b[0m, in \u001b[0;36mElementList.first\u001b[1;34m(self)\u001b[0m\n\u001b[0;32m     47\u001b[0m \u001b[38;5;129m@property\u001b[39m\n\u001b[0;32m     48\u001b[0m \u001b[38;5;28;01mdef\u001b[39;00m \u001b[38;5;21mfirst\u001b[39m(\u001b[38;5;28mself\u001b[39m):\n\u001b[0;32m     49\u001b[0m     \u001b[38;5;124;03m\"\"\"An alias to the first element of the list.\u001b[39;00m\n\u001b[0;32m     50\u001b[0m \n\u001b[0;32m     51\u001b[0m \u001b[38;5;124;03m    Example:\u001b[39;00m\n\u001b[0;32m     52\u001b[0m \n\u001b[0;32m     53\u001b[0m \u001b[38;5;124;03m        >>> assert element_list[0] == element_list.first\u001b[39;00m\n\u001b[0;32m     54\u001b[0m \u001b[38;5;124;03m    \"\"\"\u001b[39;00m\n\u001b[1;32m---> 55\u001b[0m     \u001b[38;5;28;01mreturn\u001b[39;00m \u001b[38;5;28;43mself\u001b[39;49m\u001b[43m[\u001b[49m\u001b[38;5;241;43m0\u001b[39;49m\u001b[43m]\u001b[49m\n",
      "File \u001b[1;32m~\\.conda\\envs\\PythonData\\lib\\site-packages\\splinter\\element_list.py:41\u001b[0m, in \u001b[0;36mElementList.__getitem__\u001b[1;34m(self, index)\u001b[0m\n\u001b[0;32m     39\u001b[0m     \u001b[38;5;28;01mreturn\u001b[39;00m \u001b[38;5;28mself\u001b[39m\u001b[38;5;241m.\u001b[39m_container[index]\n\u001b[0;32m     40\u001b[0m \u001b[38;5;28;01mexcept\u001b[39;00m \u001b[38;5;167;01mIndexError\u001b[39;00m:\n\u001b[1;32m---> 41\u001b[0m     \u001b[38;5;28;01mraise\u001b[39;00m ElementDoesNotExist(\n\u001b[0;32m     42\u001b[0m         \u001b[38;5;124mu\u001b[39m\u001b[38;5;124m'\u001b[39m\u001b[38;5;124mno elements could be found with \u001b[39m\u001b[38;5;132;01m{0}\u001b[39;00m\u001b[38;5;124m \u001b[39m\u001b[38;5;124m\"\u001b[39m\u001b[38;5;132;01m{1}\u001b[39;00m\u001b[38;5;124m\"\u001b[39m\u001b[38;5;124m'\u001b[39m\u001b[38;5;241m.\u001b[39mformat(\n\u001b[0;32m     43\u001b[0m             \u001b[38;5;28mself\u001b[39m\u001b[38;5;241m.\u001b[39mfind_by, \u001b[38;5;28mself\u001b[39m\u001b[38;5;241m.\u001b[39mquery\n\u001b[0;32m     44\u001b[0m         )\n\u001b[0;32m     45\u001b[0m     )\n",
      "\u001b[1;31mElementDoesNotExist\u001b[0m: no elements could be found with link by partial text \"Next\""
     ]
    }
   ],
   "source": [
    "#scrape the pages\n",
    "for x in range(1, 6):\n",
    "#loop with 5 iterations to go through 5 pages\n",
    "    html = browser.html\n",
    "    #maybe have to do again so its inside the for loop\n",
    "    #creates an HTML obj assigned to a variable\n",
    "    quote_soup = soup(html, 'html.parser')\n",
    "    #uses soup to parse the HTML obj so we can access the info\n",
    "    quotes = quote_soup.find_all('span', class_='text')\n",
    "    #parse the HTML pulled from last step and look for all the results with \n",
    "    #tag <span /> and class text (found class needed from html)\n",
    "    \n",
    "    #take out the HTML from the quotes found\n",
    "    for quote in quotes:\n",
    "        print('page:', x, '---------')\n",
    "        #prints the page your on\n",
    "        #will be on the # of iteration = # page so just use that \n",
    "        #rather than pulling that info from the html\n",
    "        print(quote.text)\n",
    "        #prints quote w/o html tags around\n",
    "    browser.links.find_by_partial_text(\"Next\").click()\n",
    "        #clicks next\n",
    "    "
   ]
  },
  {
   "cell_type": "code",
   "execution_count": null,
   "id": "a15f2830",
   "metadata": {},
   "outputs": [],
   "source": []
  },
  {
   "cell_type": "code",
   "execution_count": null,
   "id": "2ebf3b13",
   "metadata": {},
   "outputs": [],
   "source": []
  },
  {
   "cell_type": "code",
   "execution_count": null,
   "id": "5b3e266b",
   "metadata": {},
   "outputs": [],
   "source": []
  },
  {
   "cell_type": "code",
   "execution_count": null,
   "id": "d5df8ff6",
   "metadata": {},
   "outputs": [],
   "source": []
  }
 ],
 "metadata": {
  "kernelspec": {
   "display_name": "PythonData",
   "language": "python",
   "name": "pythondata"
  },
  "language_info": {
   "codemirror_mode": {
    "name": "ipython",
    "version": 3
   },
   "file_extension": ".py",
   "mimetype": "text/x-python",
   "name": "python",
   "nbconvert_exporter": "python",
   "pygments_lexer": "ipython3",
   "version": "3.9.7"
  }
 },
 "nbformat": 4,
 "nbformat_minor": 5
}
